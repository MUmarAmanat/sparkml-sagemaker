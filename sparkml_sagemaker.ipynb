{
 "cells": [
  {
   "cell_type": "markdown",
   "id": "47ca5fd8",
   "metadata": {},
   "source": [
    "## End to End SparkML on Sagemaker"
   ]
  },
  {
   "cell_type": "code",
   "execution_count": 1,
   "id": "b5189ca2",
   "metadata": {},
   "outputs": [],
   "source": [
    "import boto3\n",
    "import sagemaker\n",
    "import sagemaker_pyspark\n",
    "\n",
    "from pyspark import SparkContext, SparkConf\n",
    "from pyspark.sql import SparkSession\n",
    "from pyspark.sql import functions as F\n",
    "from pyspark.ml.feature import (VectorAssembler, StringIndexer,\n",
    "                               OneHotEncoder)\n",
    "from pyspark.ml.evaluation import BinaryClassificationEvaluator\n",
    "\n",
    "from sagemaker_pyspark import IAMRole\n",
    "from sagemaker_pyspark.algorithms import XGBoostSageMakerEstimator\n",
    "from sagemaker_pyspark import SageMakerResourceCleanup\n",
    "from sagemaker import get_execution_role\n",
    "\n"
   ]
  },
  {
   "cell_type": "code",
   "execution_count": 2,
   "id": "80f7ab78",
   "metadata": {},
   "outputs": [],
   "source": [
    "conn = boto3.client(\"s3\")\n",
    "bucket = \"sparkml-s3\""
   ]
  },
  {
   "cell_type": "code",
   "execution_count": null,
   "id": "a06c9a6f",
   "metadata": {},
   "outputs": [],
   "source": []
  },
  {
   "cell_type": "markdown",
   "id": "c6ef7807",
   "metadata": {},
   "source": [
    "### S3 connection"
   ]
  },
  {
   "cell_type": "code",
   "execution_count": 3,
   "id": "0f0837c3",
   "metadata": {},
   "outputs": [
    {
     "name": "stderr",
     "output_type": "stream",
     "text": [
      "Setting default log level to \"WARN\".\n",
      "To adjust logging level use sc.setLogLevel(newLevel). For SparkR, use setLogLevel(newLevel).\n"
     ]
    },
    {
     "name": "stdout",
     "output_type": "stream",
     "text": [
      "23/07/12 07:05:50 WARN NativeCodeLoader: Unable to load native-hadoop library for your platform... using builtin-java classes where applicable\n"
     ]
    }
   ],
   "source": [
    "\n",
    "\n",
    "role = get_execution_role()\n",
    "\n",
    "# Configure Spark to use the SageMaker Spark dependency jars\n",
    "jars = sagemaker_pyspark.classpath_jars()\n",
    "\n",
    "classpath = \":\".join(sagemaker_pyspark.classpath_jars())\n",
    "\n",
    "## create sparksession\n",
    "spark = (\n",
    "    SparkSession.builder.config(\"spark.driver.extraClassPath\", classpath)\n",
    "    .master(\"local[*]\")\n",
    "    .getOrCreate()\n",
    ")\n",
    "\n",
    "\n",
    "region = boto3.Session().region_name\n",
    "\n",
    "## sc._jsc is the Java Spark Context which is a proxy into the SparkContext in that JVM\n",
    "spark._jsc.hadoopConfiguration().set(\"fs.s3a.endpoint\", \n",
    "                                     \"s3.{}.amazonaws.com\".format(region))\n"
   ]
  },
  {
   "cell_type": "code",
   "execution_count": null,
   "id": "6bbab551",
   "metadata": {},
   "outputs": [],
   "source": []
  },
  {
   "cell_type": "code",
   "execution_count": null,
   "id": "f2f5bf18",
   "metadata": {},
   "outputs": [],
   "source": []
  },
  {
   "cell_type": "markdown",
   "id": "dac45871",
   "metadata": {},
   "source": [
    "### Read data"
   ]
  },
  {
   "cell_type": "code",
   "execution_count": 4,
   "id": "c83d0bb1",
   "metadata": {
    "scrolled": true
   },
   "outputs": [
    {
     "name": "stdout",
     "output_type": "stream",
     "text": [
      "23/07/12 07:05:54 WARN MetricsConfig: Cannot locate configuration: tried hadoop-metrics2-s3a-file-system.properties,hadoop-metrics2.properties\n"
     ]
    },
    {
     "name": "stderr",
     "output_type": "stream",
     "text": [
      "                                                                                \r"
     ]
    }
   ],
   "source": [
    "# reading a data from S3 using spark\n",
    "data_sdf = (spark\n",
    "            .read\n",
    "            .option(\"header\", True)\n",
    "            .csv(f\"s3a://{bucket}/data/train.csv\")\n",
    ")"
   ]
  },
  {
   "cell_type": "code",
   "execution_count": null,
   "id": "974c6f9c",
   "metadata": {},
   "outputs": [],
   "source": []
  },
  {
   "cell_type": "markdown",
   "id": "840e9d1a",
   "metadata": {},
   "source": [
    "### Data Display"
   ]
  },
  {
   "cell_type": "code",
   "execution_count": 5,
   "id": "a6f86367",
   "metadata": {},
   "outputs": [
    {
     "name": "stdout",
     "output_type": "stream",
     "text": [
      "+-----------+----------+---------+-----+-----------+----+-----+-----------+---------+------------+------+------+-----------------+-----------+\n",
      "|PassengerId|HomePlanet|CryoSleep|Cabin|Destination| Age|  VIP|RoomService|FoodCourt|ShoppingMall|   Spa|VRDeck|             Name|Transported|\n",
      "+-----------+----------+---------+-----+-----------+----+-----+-----------+---------+------------+------+------+-----------------+-----------+\n",
      "|    0001_01|    Europa|    False|B/0/P|TRAPPIST-1e|39.0|False|        0.0|      0.0|         0.0|   0.0|   0.0|  Maham Ofracculy|      False|\n",
      "|    0002_01|     Earth|    False|F/0/S|TRAPPIST-1e|24.0|False|      109.0|      9.0|        25.0| 549.0|  44.0|     Juanna Vines|       True|\n",
      "|    0003_01|    Europa|    False|A/0/S|TRAPPIST-1e|58.0| True|       43.0|   3576.0|         0.0|6715.0|  49.0|    Altark Susent|      False|\n",
      "|    0003_02|    Europa|    False|A/0/S|TRAPPIST-1e|33.0|False|        0.0|   1283.0|       371.0|3329.0| 193.0|     Solam Susent|      False|\n",
      "|    0004_01|     Earth|    False|F/1/S|TRAPPIST-1e|16.0|False|      303.0|     70.0|       151.0| 565.0|   2.0|Willy Santantines|       True|\n",
      "+-----------+----------+---------+-----+-----------+----+-----+-----------+---------+------------+------+------+-----------------+-----------+\n",
      "\n"
     ]
    }
   ],
   "source": [
    "data_sdf.limit(5).show()"
   ]
  },
  {
   "cell_type": "code",
   "execution_count": null,
   "id": "9eefc91d",
   "metadata": {},
   "outputs": [],
   "source": []
  },
  {
   "cell_type": "markdown",
   "id": "c0feeec1",
   "metadata": {},
   "source": [
    "### Check Min/Max of Numeric values"
   ]
  },
  {
   "cell_type": "code",
   "execution_count": 6,
   "id": "4f92a7ac",
   "metadata": {},
   "outputs": [
    {
     "name": "stderr",
     "output_type": "stream",
     "text": [
      "[Stage 2:>                                                          (0 + 1) / 1]\r"
     ]
    },
    {
     "name": "stdout",
     "output_type": "stream",
     "text": [
      "+-------+-------+----------------+----------------+--------------+--------------+-----------------+-----------------+-------+-------+-----------+-----------+\n",
      "|min_age|max_age|min_room_service|max_room_service|min_food_court|max_food_court|min_shopping_mall|max_shopping_mall|min_spa|max_spa|min_vr_deck|max_vr_deck|\n",
      "+-------+-------+----------------+----------------+--------------+--------------+-----------------+-----------------+-------+-------+-----------+-----------+\n",
      "|    0.0|    9.0|             0.0|           999.0|           0.0|         999.0|              0.0|            994.0|    0.0|  998.0|        0.0|      998.0|\n",
      "+-------+-------+----------------+----------------+--------------+--------------+-----------------+-----------------+-------+-------+-----------+-----------+\n",
      "\n"
     ]
    },
    {
     "name": "stderr",
     "output_type": "stream",
     "text": [
      "                                                                                \r"
     ]
    }
   ],
   "source": [
    "data_sdf.select(F.min(\"Age\").alias(\"min_age\"),\n",
    "             F.max(\"Age\").alias(\"max_age\"),\n",
    "             F.min(\"RoomService\").alias(\"min_room_service\"),\n",
    "             F.max(\"RoomService\").alias(\"max_room_service\"),\n",
    "             F.min(\"FoodCourt\").alias(\"min_food_court\"),\n",
    "             F.max(\"FoodCourt\").alias(\"max_food_court\"),\n",
    "             F.min(\"ShoppingMall\").alias(\"min_shopping_mall\"),\n",
    "             F.max(\"ShoppingMall\").alias(\"max_shopping_mall\"),\n",
    "             F.min(\"Spa\").alias(\"min_spa\"),\n",
    "             F.max(\"Spa\").alias(\"max_spa\"),\n",
    "             F.min(\"VRDeck\").alias(\"min_vr_deck\"),\n",
    "             F.max(\"VRDeck\").alias(\"max_vr_deck\"),\n",
    "            )\\\n",
    "        .show()"
   ]
  },
  {
   "cell_type": "code",
   "execution_count": null,
   "id": "d3124381",
   "metadata": {},
   "outputs": [],
   "source": []
  },
  {
   "cell_type": "markdown",
   "id": "1990b0bd",
   "metadata": {},
   "source": [
    "### Identify missing value"
   ]
  },
  {
   "cell_type": "code",
   "execution_count": 7,
   "id": "6909b973",
   "metadata": {},
   "outputs": [
    {
     "name": "stderr",
     "output_type": "stream",
     "text": [
      "[Stage 5:>                                                          (0 + 1) / 1]\r"
     ]
    },
    {
     "name": "stdout",
     "output_type": "stream",
     "text": [
      "+-----------+----------+---------+-----+-----------+---+---+-----------+---------+------------+---+------+----+-----------+\n",
      "|PassengerId|HomePlanet|CryoSleep|Cabin|Destination|Age|VIP|RoomService|FoodCourt|ShoppingMall|Spa|VRDeck|Name|Transported|\n",
      "+-----------+----------+---------+-----+-----------+---+---+-----------+---------+------------+---+------+----+-----------+\n",
      "|          0|       201|      217|  199|        182|179|203|        181|      183|         208|183|   188| 200|          0|\n",
      "+-----------+----------+---------+-----+-----------+---+---+-----------+---------+------------+---+------+----+-----------+\n",
      "\n"
     ]
    },
    {
     "name": "stderr",
     "output_type": "stream",
     "text": [
      "                                                                                \r"
     ]
    }
   ],
   "source": [
    "data_sdf.select([F.count(F.when(F.col(c).contains('None') | \\\n",
    "                            F.col(c).contains('NULL') | \\\n",
    "                            (F.col(c) == '' ) | \\\n",
    "                            F.col(c).isNull() | \\\n",
    "                            F.isnan(c), c \n",
    "                           )).alias(c)\n",
    "                    for c in data_sdf.columns]).show()"
   ]
  },
  {
   "cell_type": "code",
   "execution_count": null,
   "id": "595bbdd9",
   "metadata": {},
   "outputs": [],
   "source": []
  },
  {
   "cell_type": "markdown",
   "id": "f9c30c9f",
   "metadata": {},
   "source": [
    "### Remove Missing values"
   ]
  },
  {
   "cell_type": "code",
   "execution_count": 33,
   "id": "082de49c",
   "metadata": {},
   "outputs": [],
   "source": [
    "clean_sdf = data_sdf.dropna(how=\"any\", subset=[\"CryoSleep\", \"HomePlanet\", \"Cabin\",\n",
    "                                              \"Destination\", \"Age\", \"VIP\", \"RoomService\",\n",
    "                                              \"FoodCourt\", \"ShoppingMall\", \"Spa\", \"VRDeck\",\n",
    "                                              \"Name\", \"Transported\"])\\\n",
    "                    .withColumn(\"Age\", F.col(\"Age\").cast(\"int\"))\\\n",
    "                    .withColumn(\"RoomService\", F.col(\"RoomService\").cast(\"int\"))"
   ]
  },
  {
   "cell_type": "code",
   "execution_count": 34,
   "id": "8fb170f6",
   "metadata": {},
   "outputs": [
    {
     "name": "stdout",
     "output_type": "stream",
     "text": [
      "+-----------+----------+---------+-----+-----------+---+---+-----------+---------+------------+---+------+----+-----------+\n",
      "|PassengerId|HomePlanet|CryoSleep|Cabin|Destination|Age|VIP|RoomService|FoodCourt|ShoppingMall|Spa|VRDeck|Name|Transported|\n",
      "+-----------+----------+---------+-----+-----------+---+---+-----------+---------+------------+---+------+----+-----------+\n",
      "|          0|         0|        0|    0|          0|  0|  0|          0|        0|           0|  0|     0|   0|          0|\n",
      "+-----------+----------+---------+-----+-----------+---+---+-----------+---------+------------+---+------+----+-----------+\n",
      "\n"
     ]
    }
   ],
   "source": [
    "clean_sdf.select([F.count(F.when(F.col(c).contains('None') | \\\n",
    "                            F.col(c).contains('NULL') | \\\n",
    "                            (F.col(c) == '' ) | \\\n",
    "                            F.col(c).isNull() | \\\n",
    "                            F.isnan(c), c \n",
    "                           )).alias(c)\n",
    "                    for c in data_sdf.columns]).show()"
   ]
  },
  {
   "cell_type": "markdown",
   "id": "7c771f6f",
   "metadata": {},
   "source": [
    "No Missing values reported in clean dataframe"
   ]
  },
  {
   "cell_type": "code",
   "execution_count": 35,
   "id": "9cf11846",
   "metadata": {},
   "outputs": [
    {
     "name": "stdout",
     "output_type": "stream",
     "text": [
      "+-----------+----------+---------+-----+-----------+---+-----+-----------+---------+------------+-----+------+---------------+-----------+\n",
      "|PassengerId|HomePlanet|CryoSleep|Cabin|Destination|Age|  VIP|RoomService|FoodCourt|ShoppingMall|  Spa|VRDeck|           Name|Transported|\n",
      "+-----------+----------+---------+-----+-----------+---+-----+-----------+---------+------------+-----+------+---------------+-----------+\n",
      "|    0001_01|    Europa|    False|B/0/P|TRAPPIST-1e| 39|False|          0|      0.0|         0.0|  0.0|   0.0|Maham Ofracculy|      False|\n",
      "|    0002_01|     Earth|    False|F/0/S|TRAPPIST-1e| 24|False|        109|      9.0|        25.0|549.0|  44.0|   Juanna Vines|       True|\n",
      "+-----------+----------+---------+-----+-----------+---+-----+-----------+---------+------------+-----+------+---------------+-----------+\n",
      "\n"
     ]
    }
   ],
   "source": [
    "clean_sdf.limit(2).show()"
   ]
  },
  {
   "cell_type": "code",
   "execution_count": null,
   "id": "20eea82a",
   "metadata": {},
   "outputs": [],
   "source": []
  },
  {
   "cell_type": "markdown",
   "id": "c90e52f8",
   "metadata": {},
   "source": [
    "### Structurize Data"
   ]
  },
  {
   "cell_type": "markdown",
   "id": "7116d748",
   "metadata": {},
   "source": [
    "While reading csv we didn't specify schema. So, now we have to create a proper data type for columns based on their data"
   ]
  },
  {
   "cell_type": "code",
   "execution_count": 37,
   "id": "d11133da",
   "metadata": {},
   "outputs": [
    {
     "name": "stdout",
     "output_type": "stream",
     "text": [
      "root\n",
      " |-- PassengerId: string (nullable = true)\n",
      " |-- HomePlanet: string (nullable = true)\n",
      " |-- CryoSleep: string (nullable = true)\n",
      " |-- Cabin: string (nullable = true)\n",
      " |-- Destination: string (nullable = true)\n",
      " |-- Age: integer (nullable = true)\n",
      " |-- VIP: string (nullable = true)\n",
      " |-- RoomService: integer (nullable = true)\n",
      " |-- FoodCourt: string (nullable = true)\n",
      " |-- ShoppingMall: string (nullable = true)\n",
      " |-- Spa: string (nullable = true)\n",
      " |-- VRDeck: string (nullable = true)\n",
      " |-- Name: string (nullable = true)\n",
      " |-- Transported: string (nullable = true)\n",
      "\n"
     ]
    }
   ],
   "source": [
    "clean_sdf.printSchema()"
   ]
  },
  {
   "cell_type": "code",
   "execution_count": 38,
   "id": "40b8b7f1",
   "metadata": {},
   "outputs": [],
   "source": [
    "clean_sdf = (clean_sdf\n",
    "                 .withColumn(\"CryoSleep\", \n",
    "                         F.when(F.col(\"CryoSleep\") == \"True\", 1.0)\n",
    "                                .otherwise(0.0))\n",
    "                 .withColumn(\"Age\", F.col(\"Age\").cast(\"double\"))\n",
    "                 .withColumn(\"VIP\", \n",
    "                             F.when(F.col(\"VIP\") == \"True\", 1.0)\n",
    "                                    .otherwise(0.0))\n",
    "                 .withColumn(\"RoomService\", F.col(\"RoomService\").cast(\"double\"))\n",
    "                 .withColumn(\"FoodCourt\", F.col(\"FoodCourt\").cast(\"double\"))\n",
    "                 .withColumn(\"ShoppingMall\", F.col(\"ShoppingMall\").cast(\"double\"))\n",
    "                 .withColumn(\"Spa\", F.col(\"Spa\").cast(\"double\"))\n",
    "                 .withColumn(\"VRDeck\", F.col(\"VRDeck\").cast(\"double\"))\n",
    "                 .withColumn(\"Transported\", \n",
    "                                 F.when(F.col(\"Transported\") == \"True\", 1.0)\n",
    "                                        .otherwise(0.0))\n",
    ")"
   ]
  },
  {
   "cell_type": "code",
   "execution_count": 39,
   "id": "23e73c60",
   "metadata": {},
   "outputs": [
    {
     "name": "stdout",
     "output_type": "stream",
     "text": [
      "root\n",
      " |-- PassengerId: string (nullable = true)\n",
      " |-- HomePlanet: string (nullable = true)\n",
      " |-- CryoSleep: double (nullable = false)\n",
      " |-- Cabin: string (nullable = true)\n",
      " |-- Destination: string (nullable = true)\n",
      " |-- Age: double (nullable = true)\n",
      " |-- VIP: double (nullable = false)\n",
      " |-- RoomService: double (nullable = true)\n",
      " |-- FoodCourt: double (nullable = true)\n",
      " |-- ShoppingMall: double (nullable = true)\n",
      " |-- Spa: double (nullable = true)\n",
      " |-- VRDeck: double (nullable = true)\n",
      " |-- Name: string (nullable = true)\n",
      " |-- Transported: double (nullable = false)\n",
      "\n"
     ]
    }
   ],
   "source": [
    "clean_sdf.printSchema()"
   ]
  },
  {
   "cell_type": "code",
   "execution_count": null,
   "id": "be64f6df",
   "metadata": {},
   "outputs": [],
   "source": []
  },
  {
   "cell_type": "markdown",
   "id": "7b3020e2",
   "metadata": {},
   "source": [
    "### Dop extra columns\n",
    "In this experiment, we are going to use one hot encoder for categorical columns. We are interested in columns with low cardinality. `Cabin` has high cardinality this is why we are dropping here for this experiment"
   ]
  },
  {
   "cell_type": "code",
   "execution_count": 41,
   "id": "15e46ce1",
   "metadata": {},
   "outputs": [],
   "source": [
    "clean_sdf = clean_sdf.drop(\"Cabin\", \"Name\")"
   ]
  },
  {
   "cell_type": "markdown",
   "id": "6a720c0a",
   "metadata": {},
   "source": [
    "### Train/Test Split"
   ]
  },
  {
   "cell_type": "code",
   "execution_count": 42,
   "id": "adfc37cc",
   "metadata": {},
   "outputs": [],
   "source": [
    "train_sdf, test_sdf = clean_sdf.randomSplit([0.8, 0.2],\n",
    "                                            seed=4)"
   ]
  },
  {
   "cell_type": "code",
   "execution_count": null,
   "id": "ce61e5a2",
   "metadata": {},
   "outputs": [],
   "source": []
  },
  {
   "cell_type": "markdown",
   "id": "b8f5a27a",
   "metadata": {},
   "source": [
    "### Convert data to spark required format"
   ]
  },
  {
   "cell_type": "code",
   "execution_count": 43,
   "id": "be76d576",
   "metadata": {},
   "outputs": [
    {
     "name": "stdout",
     "output_type": "stream",
     "text": [
      "root\n",
      " |-- PassengerId: string (nullable = true)\n",
      " |-- HomePlanet: string (nullable = true)\n",
      " |-- CryoSleep: double (nullable = false)\n",
      " |-- Destination: string (nullable = true)\n",
      " |-- Age: double (nullable = true)\n",
      " |-- VIP: double (nullable = false)\n",
      " |-- RoomService: double (nullable = true)\n",
      " |-- FoodCourt: double (nullable = true)\n",
      " |-- ShoppingMall: double (nullable = true)\n",
      " |-- Spa: double (nullable = true)\n",
      " |-- VRDeck: double (nullable = true)\n",
      " |-- Transported: double (nullable = false)\n",
      "\n"
     ]
    }
   ],
   "source": [
    "clean_sdf.printSchema()"
   ]
  },
  {
   "cell_type": "markdown",
   "id": "d34cfc34",
   "metadata": {},
   "source": [
    "SparkML expects two columns 1. features (in vector form), 2. label"
   ]
  },
  {
   "cell_type": "code",
   "execution_count": null,
   "id": "ddbcfaf9",
   "metadata": {},
   "outputs": [],
   "source": []
  },
  {
   "cell_type": "code",
   "execution_count": null,
   "id": "c27648b1",
   "metadata": {},
   "outputs": [],
   "source": []
  },
  {
   "cell_type": "markdown",
   "id": "40af0bcc",
   "metadata": {},
   "source": [
    "#### Handling Categorical Columns"
   ]
  },
  {
   "cell_type": "code",
   "execution_count": 44,
   "id": "f56eb17e",
   "metadata": {},
   "outputs": [],
   "source": [
    "# categorical_cols = [field for (field, dataType) in clean_sdf.dtypes if dataType == \"string\"]\n",
    "# categorical_cols.remove(\"PassengerId\")\n",
    "# index_output_cols = [x + \"_Index\" for x in categorical_cols]\n",
    "# ohe_output_cols = [x + \"_OHE\" for x in categorical_cols]\n",
    "\n",
    "# string_indexer = StringIndexer(inputCols=categorical_cols,  outputCols=index_output_cols, handleInvalid=\"skip\")\n",
    "\n",
    "# s_i_model = string_indexer.fit(clean_sdf)\n",
    "\n",
    "\n",
    "# transform_sdf = s_i_model.transform(clean_sdf)\n",
    "\n",
    "# ohe_encoder = OneHotEncoder(inputCols=index_output_cols, outputCols=ohe_output_cols)\n",
    "# ohe_model = ohe_encoder.fit(transform_sdf)\n",
    "# transform_sdf = ohe_model.transform(transform_sdf)\n"
   ]
  },
  {
   "cell_type": "code",
   "execution_count": null,
   "id": "5b6f5710",
   "metadata": {},
   "outputs": [],
   "source": []
  },
  {
   "cell_type": "code",
   "execution_count": 45,
   "id": "d12c1155",
   "metadata": {},
   "outputs": [],
   "source": [
    "categorical_cols = [field for (field, dataType) in clean_sdf.dtypes if dataType == \"string\"]\n",
    "categorical_cols.remove(\"PassengerId\")\n",
    "index_output_cols = [x + \"_Index\" for x in categorical_cols]\n",
    "ohe_output_cols = [x + \"_OHE\" for x in categorical_cols]\n",
    "\n",
    "string_indexer = StringIndexer(inputCols=categorical_cols,  outputCols=index_output_cols, handleInvalid=\"skip\")\n",
    "\n",
    "s_i_model = string_indexer.fit(clean_sdf)\n",
    "\n",
    "\n",
    "train_sdf = s_i_model.transform(train_sdf)\n",
    "\n",
    "ohe_encoder = OneHotEncoder(inputCols=index_output_cols, outputCols=ohe_output_cols)\n",
    "ohe_model = ohe_encoder.fit(train_sdf)\n",
    "\n",
    "train_sdf = ohe_model.transform(train_sdf)\n"
   ]
  },
  {
   "cell_type": "code",
   "execution_count": null,
   "id": "9cffe9f8",
   "metadata": {},
   "outputs": [],
   "source": []
  },
  {
   "cell_type": "code",
   "execution_count": null,
   "id": "d61aeb73",
   "metadata": {},
   "outputs": [],
   "source": []
  },
  {
   "cell_type": "markdown",
   "id": "37eed17f",
   "metadata": {},
   "source": [
    "#### Handling Numerical Columns"
   ]
  },
  {
   "cell_type": "code",
   "execution_count": 48,
   "id": "80d54113",
   "metadata": {},
   "outputs": [],
   "source": [
    "numeric_cols = [field for (field, dataType) in clean_sdf.dtypes if dataType == \"double\"]\n",
    "numeric_cols.remove(\"Transported\") ## remove label column"
   ]
  },
  {
   "cell_type": "code",
   "execution_count": 49,
   "id": "433aecaa",
   "metadata": {},
   "outputs": [
    {
     "data": {
      "text/plain": [
       "['CryoSleep',\n",
       " 'Age',\n",
       " 'VIP',\n",
       " 'RoomService',\n",
       " 'FoodCourt',\n",
       " 'ShoppingMall',\n",
       " 'Spa',\n",
       " 'VRDeck']"
      ]
     },
     "execution_count": 49,
     "metadata": {},
     "output_type": "execute_result"
    }
   ],
   "source": [
    "numeric_cols"
   ]
  },
  {
   "cell_type": "code",
   "execution_count": 50,
   "id": "d5250951",
   "metadata": {},
   "outputs": [],
   "source": [
    "assembler_inputs = ohe_output_cols + numeric_cols\n",
    "vec_assembler = VectorAssembler(inputCols=assembler_inputs, outputCol=\"features\")\n"
   ]
  },
  {
   "cell_type": "code",
   "execution_count": 51,
   "id": "ff6784d2",
   "metadata": {},
   "outputs": [],
   "source": [
    "train_sdf = vec_assembler.transform(train_sdf)"
   ]
  },
  {
   "cell_type": "code",
   "execution_count": 52,
   "id": "7b3e20a4",
   "metadata": {},
   "outputs": [
    {
     "data": {
      "text/plain": [
       "DataFrame[label: double, features: vector]"
      ]
     },
     "execution_count": 52,
     "metadata": {},
     "output_type": "execute_result"
    }
   ],
   "source": [
    "train_sdf = train_sdf.select(F.col(\"Transported\").alias(\"label\"), \n",
    "                             \"features\")\n",
    "train_sdf"
   ]
  },
  {
   "cell_type": "code",
   "execution_count": null,
   "id": "d12ac37a",
   "metadata": {},
   "outputs": [],
   "source": []
  },
  {
   "cell_type": "markdown",
   "id": "377762a7",
   "metadata": {},
   "source": [
    "### Model Development & Deployment"
   ]
  },
  {
   "cell_type": "code",
   "execution_count": 58,
   "id": "fde5a2b6",
   "metadata": {},
   "outputs": [],
   "source": [
    "xgboost_estimator = XGBoostSageMakerEstimator(\n",
    "    sagemakerRole=IAMRole(role),\n",
    "    trainingInstanceType=\"ml.m4.xlarge\",\n",
    "    trainingInstanceCount=1,\n",
    "    endpointInstanceType=\"ml.m4.xlarge\",\n",
    "    endpointInitialInstanceCount=1\n",
    ")"
   ]
  },
  {
   "cell_type": "code",
   "execution_count": 59,
   "id": "b31d5ba1",
   "metadata": {},
   "outputs": [],
   "source": [
    "xgboost_estimator.setNumRound(10)"
   ]
  },
  {
   "cell_type": "code",
   "execution_count": 60,
   "id": "e93907f0",
   "metadata": {},
   "outputs": [
    {
     "name": "stdout",
     "output_type": "stream",
     "text": [
      "23/07/12 07:16:03 WARN CredentialsLegacyConfigLocationProvider: Found the legacy config profiles file at [/home/ec2-user/.aws/config]. Please move it to the latest default location [~/.aws/credentials].\n",
      "23/07/12 07:16:04 WARN CredentialsLegacyConfigLocationProvider: Found the legacy config profiles file at [/home/ec2-user/.aws/config]. Please move it to the latest default location [~/.aws/credentials].\n",
      "23/07/12 07:16:04 WARN AbstractS3ACommitterFactory: Using standard FileOutputCommitter to commit work. This is slow and potentially unsafe.\n",
      "23/07/12 07:16:05 WARN AbstractS3ACommitterFactory: Using standard FileOutputCommitter to commit work. This is slow and potentially unsafe.\n"
     ]
    },
    {
     "name": "stderr",
     "output_type": "stream",
     "text": [
      "                                                                                \r"
     ]
    }
   ],
   "source": [
    "model = xgboost_estimator.fit(train_sdf)"
   ]
  },
  {
   "cell_type": "code",
   "execution_count": null,
   "id": "fb0b1df3",
   "metadata": {},
   "outputs": [],
   "source": []
  },
  {
   "cell_type": "code",
   "execution_count": 54,
   "id": "94d25cbd",
   "metadata": {},
   "outputs": [],
   "source": [
    "test_sdf = s_i_model.transform(test_sdf)\n",
    "test_sdf = ohe_model.transform(test_sdf)"
   ]
  },
  {
   "cell_type": "code",
   "execution_count": 55,
   "id": "d46429cc",
   "metadata": {},
   "outputs": [
    {
     "data": {
      "text/plain": [
       "DataFrame[label: double, features: vector]"
      ]
     },
     "execution_count": 55,
     "metadata": {},
     "output_type": "execute_result"
    }
   ],
   "source": [
    "test_sdf = vec_assembler.transform(test_sdf)\n",
    "\n",
    "test_sdf = test_sdf.select(F.col(\"Transported\").alias(\"label\"), \n",
    "                             \"features\")\n",
    "test_sdf"
   ]
  },
  {
   "cell_type": "code",
   "execution_count": null,
   "id": "d3e887ec",
   "metadata": {},
   "outputs": [],
   "source": []
  },
  {
   "cell_type": "markdown",
   "id": "984adfb7",
   "metadata": {},
   "source": [
    "#### Inferencing"
   ]
  },
  {
   "cell_type": "code",
   "execution_count": 62,
   "id": "c001e475",
   "metadata": {},
   "outputs": [],
   "source": [
    "pred_sdf = model.transform(test_sdf)"
   ]
  },
  {
   "cell_type": "code",
   "execution_count": null,
   "id": "5f601f36",
   "metadata": {},
   "outputs": [],
   "source": []
  },
  {
   "cell_type": "markdown",
   "id": "943b13fb",
   "metadata": {},
   "source": [
    "#### Evauation"
   ]
  },
  {
   "cell_type": "code",
   "execution_count": 69,
   "id": "6ca8200c",
   "metadata": {},
   "outputs": [],
   "source": [
    "evaluator = BinaryClassificationEvaluator(rawPredictionCol=\"prediction\",\n",
    "                                          labelCol=\"label\")\n",
    "\n"
   ]
  },
  {
   "cell_type": "code",
   "execution_count": 85,
   "id": "888bdd0f",
   "metadata": {},
   "outputs": [
    {
     "name": "stderr",
     "output_type": "stream",
     "text": [
      "                                                                                \r"
     ]
    },
    {
     "data": {
      "text/plain": [
       "0.893227109013756"
      ]
     },
     "execution_count": 85,
     "metadata": {},
     "output_type": "execute_result"
    }
   ],
   "source": [
    "evaluator.evaluate(pred_sdf, {evaluator.metricName: \"areaUnderPR\"})"
   ]
  },
  {
   "cell_type": "code",
   "execution_count": 86,
   "id": "30807f61",
   "metadata": {},
   "outputs": [
    {
     "name": "stderr",
     "output_type": "stream",
     "text": [
      "                                                                                \r"
     ]
    },
    {
     "data": {
      "text/plain": [
       "0.8804688975022495"
      ]
     },
     "execution_count": 86,
     "metadata": {},
     "output_type": "execute_result"
    }
   ],
   "source": [
    "evaluator.evaluate(pred_sdf, {evaluator.metricName: \"areaUnderROC\"})"
   ]
  },
  {
   "cell_type": "code",
   "execution_count": null,
   "id": "919470f8-d4db-4902-af47-47a66027336e",
   "metadata": {},
   "outputs": [],
   "source": []
  },
  {
   "cell_type": "markdown",
   "id": "df8a767a-6765-4882-b75d-d62ee2ce4c60",
   "metadata": {},
   "source": [
    "### Delete endpoint"
   ]
  },
  {
   "cell_type": "code",
   "execution_count": null,
   "id": "f04bae58-cddb-4014-ba94-97cc0bdb72f3",
   "metadata": {},
   "outputs": [],
   "source": [
    "resource_cleanup = SageMakerResourceCleanup(model.sagemakerClient)\n",
    "resource_cleanup.deleteResources(model.getCreatedResources())"
   ]
  },
  {
   "cell_type": "code",
   "execution_count": null,
   "id": "da585454-31f7-4f5c-8694-ea63a18e58cb",
   "metadata": {},
   "outputs": [],
   "source": []
  }
 ],
 "metadata": {
  "kernelspec": {
   "display_name": "conda_python3",
   "language": "python",
   "name": "conda_python3"
  },
  "language_info": {
   "codemirror_mode": {
    "name": "ipython",
    "version": 3
   },
   "file_extension": ".py",
   "mimetype": "text/x-python",
   "name": "python",
   "nbconvert_exporter": "python",
   "pygments_lexer": "ipython3",
   "version": "3.10.10"
  }
 },
 "nbformat": 4,
 "nbformat_minor": 5
}
